{
 "cells": [
  {
   "cell_type": "code",
   "execution_count": null,
   "metadata": {
    "pycharm": {
     "name": "#%%\n"
    }
   },
   "outputs": [],
   "source": [
    "import pickle\n",
    "from pathlib import Path\n",
    "import pandas as pd\n",
    "\n",
    "def read_data(file_path):\n",
    "    with open(file_path, 'rb') as f:\n",
    "        list = pickle.load(f)\n",
    "    return list"
   ]
  },
  {
   "cell_type": "code",
   "execution_count": null,
   "metadata": {
    "pycharm": {
     "name": "#%%\n"
    }
   },
   "outputs": [],
   "source": [
    "prefix = Path('validation_res/')\n",
    "\n",
    "detector = prefix / 'time_agnostic_detector' / 'times.pickle'\n",
    "unpruned = prefix / 'time_classification_unpruned' / 'times.pickle'\n",
    "pruned =  prefix / 'time_classification_pruning' / 'times.pickle'\n",
    "kd = prefix / 'time_classification_kd' / 'times.pickle'\n",
    "\n",
    "detector_dict = read_data(detector)\n",
    "unpruned_dict = read_data(unpruned)\n",
    "pruned_dict = read_data(pruned)\n",
    "kd_dict = read_data(kd)"
   ]
  },
  {
   "cell_type": "code",
   "execution_count": null,
   "metadata": {
    "pycharm": {
     "name": "#%%\n"
    }
   },
   "outputs": [],
   "source": [
    "detector_dict"
   ]
  },
  {
   "cell_type": "code",
   "execution_count": null,
   "metadata": {
    "pycharm": {
     "name": "#%%\n"
    }
   },
   "outputs": [],
   "source": [
    "detector_df = pd.DataFrame(detector_dict)\n",
    "detector_df['method'] = ['Detector'] * len(detector_df)\n",
    "\n",
    "unpruned_df = pd.DataFrame(unpruned_dict)\n",
    "unpruned_df['method'] = ['Detector<br>+<br>CIL Unpruned'] * len(unpruned_df)\n",
    "\n",
    "pruned_df = pd.DataFrame(pruned_dict)\n",
    "pruned_df['method'] = ['Detector<br>+<br>CIL Pruned'] * len(pruned_df)\n",
    "\n",
    "kd_df = pd.DataFrame(kd_dict)\n",
    "kd_df['method'] = ['Detector<br>+<br>CIL KD'] * len(kd_df)\n",
    "\n",
    "final_df = pd.concat([detector_df, unpruned_df, pruned_df, kd_df])\n",
    "final_df['cil_inference'] = final_df['cil_inference'].fillna(0)\n",
    "\n",
    "final_df.head()\n"
   ]
  },
  {
   "cell_type": "code",
   "execution_count": null,
   "metadata": {
    "pycharm": {
     "name": "#%%\n"
    }
   },
   "outputs": [],
   "source": [
    "df_numeric = final_df[['convert_img', 'yolo_inference', 'non_max_supp', 'cil_inference']]\n",
    "final_df['total'] = df_numeric.sum(axis=1)\n",
    "final_df.head()"
   ]
  },
  {
   "cell_type": "code",
   "execution_count": null,
   "metadata": {
    "pycharm": {
     "name": "#%%\n"
    }
   },
   "outputs": [],
   "source": [
    "final_df_agg = final_df.groupby(['method']).agg(['mean', 'std'])\n",
    "final_df_agg"
   ]
  },
  {
   "cell_type": "code",
   "execution_count": null,
   "metadata": {
    "pycharm": {
     "name": "#%%\n"
    }
   },
   "outputs": [],
   "source": [
    "import plotly.express as px\n",
    "\n",
    "from scipy import stats\n",
    "import numpy as np\n",
    "\n",
    "\n",
    "final_df_clean = final_df[(np.abs(stats.zscore(final_df['total'])) < 2)]\n",
    "fig = px.box(final_df_clean, x=\"method\", y='total', color='method', template='seaborn')\n",
    "fig.update_xaxes(title='Method')\n",
    "fig.update_yaxes(title='Time (s)')\n",
    "fig.update_layout(showlegend=False)\n",
    "\n",
    "fig.update_layout(\n",
    "    title={\n",
    "        'text': \"Inference time of models (CPU)\",\n",
    "        'x':0.5,\n",
    "        'xanchor': 'center',\n",
    "        'yanchor': 'top'})\n",
    "\n",
    "fig.write_image('times.png', scale=3)"
   ]
  },
  {
   "cell_type": "code",
   "execution_count": null,
   "metadata": {
    "pycharm": {
     "name": "#%%\n"
    }
   },
   "outputs": [],
   "source": [
    "final_df[(np.abs(stats.zscore(final_df['total'])) < 3)]"
   ]
  },
  {
   "cell_type": "code",
   "execution_count": null,
   "metadata": {
    "pycharm": {
     "name": "#%%\n"
    }
   },
   "outputs": [],
   "source": []
  }
 ],
 "metadata": {
  "kernelspec": {
   "display_name": "Python 3 (ipykernel)",
   "language": "python",
   "name": "python3"
  },
  "language_info": {
   "codemirror_mode": {
    "name": "ipython",
    "version": 3
   },
   "file_extension": ".py",
   "mimetype": "text/x-python",
   "name": "python",
   "nbconvert_exporter": "python",
   "pygments_lexer": "ipython3",
   "version": "3.9.11"
  }
 },
 "nbformat": 4,
 "nbformat_minor": 1
}
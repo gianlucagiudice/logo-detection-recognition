{
 "cells": [
  {
   "cell_type": "code",
   "execution_count": null,
   "metadata": {
    "pycharm": {
     "name": "#%%\n"
    }
   },
   "outputs": [],
   "source": [
    "import shutil\n",
    "\n",
    "import matplotlib.pyplot as plt\n",
    "import pandas as pd\n",
    "import tqdm\n",
    "\n",
    "from validate_detector import *\n",
    "\n",
    "cil_model_path='weights/CIL_1000_250_2993-WA-mem50-resnet34-pretrained-drop0.5-augmented-adam.pt'"
   ]
  },
  {
   "cell_type": "code",
   "execution_count": null,
   "metadata": {
    "pycharm": {
     "name": "#%%\n"
    }
   },
   "outputs": [],
   "source": [
    "metadata = pd.read_pickle(Path(DATASET_PATH) / LOGODET_3K_NORMAL_PATH / METADATA_CROPPED_IMAGE_PATH)\n",
    "    \n",
    "# Test images full format\n",
    "with open(Path(DATASET_PATH) / 'LogoDet-3K' / 'test.txt') as f:\n",
    "    test_instances = [Path(x.strip()).name for x in f.readlines()]\n",
    "\n",
    "# Configure\n",
    "cil_model, cil_idx2class, cil_class2idx, cil_class_remap = load_cil_model(cil_model_path, None)\n",
    "cil_model.eval()"
   ]
  },
  {
   "cell_type": "code",
   "execution_count": null,
   "metadata": {
    "pycharm": {
     "name": "#%%\n"
    }
   },
   "outputs": [],
   "source": [
    "metadata['cropped_image_path'] = metadata['cropped_image_path'].apply(lambda x:str(x))\n",
    "df_test = metadata[metadata['cropped_image_path'].isin(test_instances)]\n",
    "print(len(df_test))\n",
    "df_test.head()"
   ]
  },
  {
   "cell_type": "code",
   "execution_count": null,
   "metadata": {
    "pycharm": {
     "name": "#%%\n"
    }
   },
   "outputs": [],
   "source": [
    "common_trsf = iLogoDet3K_trsf['common']\n",
    "test_trsf = iLogoDet3K_trsf['test']\n",
    "all_trsf = transforms.Compose([*test_trsf, *common_trsf])"
   ]
  },
  {
   "cell_type": "code",
   "execution_count": null,
   "metadata": {
    "pycharm": {
     "name": "#%%\n"
    }
   },
   "outputs": [],
   "source": [
    "from PIL import Image\n",
    "import pandas as pd\n",
    "\n",
    "cropped_path = 'dataset/LogoDet-3K/cropped'\n",
    "\n",
    "COMPUTATION = False\n",
    "if COMPUTATION:\n",
    "    def predict_image(df_row):\n",
    "        cropped_image_path = df_row['cropped_image_path']\n",
    "        label = df_row['brand']\n",
    "        # Read image\n",
    "        im_trsf = df_row['img']\n",
    "        # CIL prediction\n",
    "        cil_prediction = cil_model(im_trsf.expand(1, *im_trsf.shape))\n",
    "        cil_class = cil_prediction['logits'].argmax().int().item()\n",
    "        resolved_label = cil_idx2class[cil_class_remap[cil_class]]\n",
    "        # Result\n",
    "        res_dict = {\n",
    "            'image': cropped_image_path,\n",
    "            'label': label,\n",
    "            'prediction': resolved_label,\n",
    "            'label_id': cil_class2idx[label],\n",
    "            'prediction_id': cil_class2idx[resolved_label]\n",
    "        }\n",
    "        return res_dict\n",
    "\n",
    "    imgs = []\n",
    "    for im in tqdm(df_test['cropped_image_path'].values, total=len(df_test)):\n",
    "        im_read = Image.open(cropped_path+'/'+im)\n",
    "        imgs.append(all_trsf(im_read))\n",
    "        im_read.close()\n",
    "    df_test['img'] = imgs\n",
    "    df_test.head()\n",
    "\n",
    "\n",
    "    res = []\n",
    "    for _, row in tqdm(df_test.iterrows(), total=len(df_test)):\n",
    "        x = predict_image(row)\n",
    "        res.append(x)\n",
    "    print(len(res))\n",
    "\n",
    "    df_res = pd.DataFrame(res)\n",
    "    df_res.to_pickle('./cm/predictions.pkl')\n",
    "else:\n",
    "    df_res = pd.read_pickle('./cm/predictions.pkl')\n",
    "\n",
    "df_res.head()"
   ]
  },
  {
   "cell_type": "code",
   "execution_count": null,
   "metadata": {
    "pycharm": {
     "name": "#%%\n"
    }
   },
   "outputs": [],
   "source": [
    "from sklearn.metrics import confusion_matrix\n",
    "import matplotlib\n",
    "\n",
    "cm = confusion_matrix(df_res['label_id'], df_res['prediction_id'])"
   ]
  },
  {
   "cell_type": "code",
   "execution_count": null,
   "metadata": {
    "pycharm": {
     "name": "#%%\n"
    }
   },
   "outputs": [],
   "source": [
    "#matplotlib.image.imsave('cm/cm_raw.png', cm)\n",
    "matplotlib.image.imsave('cm/cm_norm.png', cm/cm.sum())"
   ]
  },
  {
   "cell_type": "code",
   "execution_count": null,
   "metadata": {
    "pycharm": {
     "name": "#%%\n"
    }
   },
   "outputs": [],
   "source": [
    "out_diag = {}\n",
    "k = 1\n",
    "COMPUTATION_CM = True\n",
    "\n",
    "if COMPUTATION_CM:\n",
    "    while True:\n",
    "        cm_k = cm>=k\n",
    "        res = []\n",
    "        for gt in range(cm_k.shape[0]):\n",
    "            for pred in range(cm_k.shape[1]):\n",
    "                if gt != pred and cm_k[gt, pred] > 0:\n",
    "                    res.append((gt, pred))\n",
    "\n",
    "        print(f'{k}: {len(res)}\\r', end='')\n",
    "\n",
    "        out_diag.update([(k, res)])\n",
    "        if len(res) > 0:\n",
    "            matplotlib.image.imsave(f'cm/cm_th{k}.png', cm_k)\n",
    "        else:\n",
    "            break\n",
    "        k += 1\n",
    "    with open('cm/out_diag.pickle', 'wb') as handle:\n",
    "        pickle.dump(out_diag, handle, protocol=pickle.HIGHEST_PROTOCOL)\n",
    "else:\n",
    "    with open('cm/out_diag.pickle', 'rb') as handle:\n",
    "        out_diag = pickle.load(handle)\n",
    "\n",
    "out_diag"
   ]
  },
  {
   "cell_type": "code",
   "execution_count": null,
   "metadata": {
    "pycharm": {
     "name": "#%%\n"
    }
   },
   "outputs": [],
   "source": [
    "thd = 0\n",
    "out_diag_filtered = {k:[(cil_idx2class[x], cil_idx2class[y]) for x,y in res if (x-y)>thd] for k, res in out_diag.items()}\n",
    "out_diag_filtered = dict(filter(lambda x: x[1] != [], out_diag_filtered.items()))\n",
    "\n",
    "with open('cm/cm_entry_GT_vs_PRED.txt', 'w') as f:\n",
    "    f.write('Vengono qui riportati tutte le entry della matrice di confusione al variare delle soglie.\\n')\n",
    "    f.write('\\n')\n",
    "    f.write('Per ogni soglia, viene riportata una tupla nel formato (Ground truth, Prediction).\\n')\n",
    "    f.write('\\n')\n",
    "    f.write('\\n')\n",
    "    for k, res in out_diag_filtered.items():\n",
    "        print(k, len(res))\n",
    "        f.write(f'> ConfusionMatrix_ij >= {k}\\n')\n",
    "        for t in res:\n",
    "            f.write(f'\\t{t[0] , t[1]}\\n')\n",
    "        f.write('\\n')"
   ]
  },
  {
   "cell_type": "code",
   "execution_count": null,
   "metadata": {
    "pycharm": {
     "name": "#%%\n"
    }
   },
   "outputs": [],
   "source": [
    "import plotly.express as px\n",
    "\n",
    "x, y = list(zip(*[(k, len(v)) for k, v in out_diag_filtered.items()]))\n",
    "x, y = list(x), list(y)\n",
    "\n",
    "x.append(40)\n",
    "y.append(0)\n",
    "\n",
    "print(x)\n",
    "print(y)\n",
    "\n",
    "fig = px.line(x=x, y=y, log_y=True)\n",
    "fig.update_xaxes(title_text='Threshold')\n",
    "fig.update_yaxes(title_text='Number of entry (log)')\n",
    "fig.update_layout(\n",
    "    title_text = '# of entry CM_ij in the confusion matrix where CM_ij >= threshold (where i!=j)', title_x = 0.5,\n",
    "    xaxis = dict(\n",
    "        tickmode = 'linear',\n",
    "        tick0 = 0,\n",
    "        dtick = 1\n",
    "    )\n",
    ")\n",
    "fig.show()\n",
    "fig.write_image('cm/cm_entry_plot.png')"
   ]
  },
  {
   "cell_type": "code",
   "execution_count": null,
   "metadata": {
    "pycharm": {
     "name": "#%%\n"
    }
   },
   "outputs": [],
   "source": []
  }
 ],
 "metadata": {
  "kernelspec": {
   "display_name": "Python 3 (ipykernel)",
   "language": "python",
   "name": "python3"
  },
  "language_info": {
   "codemirror_mode": {
    "name": "ipython",
    "version": 3
   },
   "file_extension": ".py",
   "mimetype": "text/x-python",
   "name": "python",
   "nbconvert_exporter": "python",
   "pygments_lexer": "ipython3",
   "version": "3.9.11"
  }
 },
 "nbformat": 4,
 "nbformat_minor": 1
}
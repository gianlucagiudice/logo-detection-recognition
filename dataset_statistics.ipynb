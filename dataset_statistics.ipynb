{
 "cells": [
  {
   "cell_type": "code",
   "execution_count": null,
   "metadata": {
    "pycharm": {
     "name": "#%%\n"
    }
   },
   "outputs": [],
   "source": [
    "from pathlib import Path\n",
    "\n",
    "import numpy as np\n",
    "import plotly.express as px\n",
    "import pandas as pd\n",
    "\n",
    "\n",
    "px.defaults.template = \"seaborn\"\n",
    "\n",
    "dataset_path = Path('/Users/gianlucagiudice/Desktop/LogoDet-3K')"
   ]
  },
  {
   "cell_type": "code",
   "execution_count": null,
   "metadata": {
    "pycharm": {
     "name": "#%%\n"
    }
   },
   "outputs": [],
   "source": [
    "import os\n",
    "\n",
    "sub_category_list = []\n",
    "\n",
    "for category in os.listdir(dataset_path):\n",
    "    if not (dataset_path / category).is_dir():\n",
    "        continue\n",
    "    for sub_category in os.listdir(dataset_path / category):\n",
    "        path = (dataset_path / category / sub_category)\n",
    "        if not path.is_dir():\n",
    "            continue\n",
    "        sub_category_list.append(str(dataset_path/category/sub_category))\n"
   ]
  },
  {
   "cell_type": "code",
   "execution_count": null,
   "metadata": {
    "pycharm": {
     "name": "#%%\n"
    }
   },
   "outputs": [],
   "source": [
    "print(f\"Number of directory: {len(sub_category_list)}\")"
   ]
  },
  {
   "cell_type": "code",
   "execution_count": null,
   "metadata": {
    "pycharm": {
     "name": "#%%\n"
    }
   },
   "outputs": [],
   "source": [
    "metadata_list = [Path(category) / metadata for category in sub_category_list for metadata in os.listdir(Path(category)) if (Path(category) / metadata).suffix == '.xml']"
   ]
  },
  {
   "cell_type": "code",
   "execution_count": null,
   "metadata": {
    "pycharm": {
     "name": "#%%\n"
    }
   },
   "outputs": [],
   "source": [
    "print(metadata_list[:10])"
   ]
  },
  {
   "cell_type": "code",
   "execution_count": null,
   "metadata": {
    "pycharm": {
     "name": "#%%\n"
    }
   },
   "outputs": [],
   "source": [
    "from tqdm import tqdm\n",
    "\n",
    "import xml.etree.ElementTree as ET\n",
    "\n",
    "\n",
    "brands = []\n",
    "for metadata in tqdm(metadata_list, total=len(metadata_list)):\n",
    "    tree = ET.parse(metadata)\n",
    "    tree = tree.getroot()\n",
    "    brands += [obj.find('name').text for obj in tree.findall('object')]\n"
   ]
  },
  {
   "cell_type": "code",
   "execution_count": null,
   "metadata": {
    "pycharm": {
     "name": "#%%\n"
    }
   },
   "outputs": [],
   "source": [
    "print(f\"Number of cropped logos: {len(brands)}\")\n",
    "print(f\"Number of unique brands: {len(set(brands))}\")\n"
   ]
  },
  {
   "cell_type": "code",
   "execution_count": null,
   "metadata": {
    "pycharm": {
     "name": "#%%\n"
    }
   },
   "outputs": [],
   "source": [
    "df = pd.DataFrame(brands, columns=['brand'])\n",
    "df.head()"
   ]
  },
  {
   "cell_type": "markdown",
   "metadata": {
    "pycharm": {
     "name": "#%% md\n"
    }
   },
   "source": [
    "### Categories statistics"
   ]
  },
  {
   "cell_type": "code",
   "execution_count": null,
   "metadata": {
    "pycharm": {
     "name": "#%%\n"
    }
   },
   "outputs": [],
   "source": [
    "df_metadata_cropped = pd.read_pickle('dataset/LogoDet-3K/metadata_cropped_images.pickle')\n",
    "df_metadata_full = pd.read_pickle('dataset/LogoDet-3K/metadata_full_images.pickle')"
   ]
  },
  {
   "cell_type": "markdown",
   "metadata": {
    "pycharm": {
     "name": "#%% md\n"
    }
   },
   "source": []
  },
  {
   "cell_type": "code",
   "execution_count": null,
   "metadata": {
    "pycharm": {
     "name": "#%%\n"
    }
   },
   "outputs": [],
   "source": [
    "print(\"Number of images per category\")\n",
    "images_per_category = df_metadata_cropped.groupby(by=['category']).count()['new_path']\n",
    "images_per_category"
   ]
  },
  {
   "cell_type": "code",
   "execution_count": null,
   "metadata": {
    "pycharm": {
     "name": "#%%\n"
    }
   },
   "outputs": [],
   "source": [
    "df_metadata_cropped.groupby(by=['category'])['brand'].nunique()"
   ]
  },
  {
   "cell_type": "code",
   "execution_count": null,
   "metadata": {
    "pycharm": {
     "name": "#%%\n"
    }
   },
   "outputs": [],
   "source": [
    "len(sorted(df_metadata_cropped['brand'].unique()))"
   ]
  },
  {
   "cell_type": "markdown",
   "metadata": {
    "pycharm": {
     "name": "#%% md\n"
    }
   },
   "source": [
    "### Dataset statistics"
   ]
  },
  {
   "cell_type": "code",
   "execution_count": null,
   "metadata": {
    "pycharm": {
     "name": "#%%\n"
    }
   },
   "outputs": [],
   "source": [
    "fig = px.histogram(df, x=\"brand\")\n",
    "fig.update_xaxes(categoryorder='sum descending')\n",
    "\n",
    "fig.update_layout(\n",
    "    title_x=0.5,\n",
    "    title_text='Number of objects', # title of plot\n",
    "    xaxis_title_text='Brand', # xaxis label\n",
    "    yaxis_title_text='Count', # yaxis label\n",
    ")\n",
    "\n",
    "fig.update_xaxes(tickangle=45)\n",
    "fig.write_image(\"freq.jpeg\", scale=3)\n",
    "fig.show()"
   ]
  },
  {
   "cell_type": "code",
   "execution_count": null,
   "metadata": {
    "pycharm": {
     "name": "#%%\n"
    }
   },
   "outputs": [],
   "source": [
    "import collections\n",
    "freq = collections.Counter(brands)\n",
    "fig = px.box(data_frame=pd.DataFrame(freq.values(), columns=['brand']), x='brand', orientation='h')\n",
    "\n",
    "fig.update_layout(\n",
    "    xaxis = dict(\n",
    "        tickmode = 'linear',\n",
    "        tick0 = 0,\n",
    "        dtick = 15,\n",
    "        range=[0, 550],\n",
    "        title='Count'\n",
    "    ),\n",
    "    yaxis = dict(\n",
    "        title=''\n",
    "    ),\n",
    "    title_x=0.5,\n",
    "    title_text='Brands frequencies boxplot',\n",
    ")\n",
    "fig.write_image(\"box_plot.jpeg\", scale=3)\n",
    "fig.show()"
   ]
  },
  {
   "cell_type": "code",
   "execution_count": null,
   "metadata": {
    "pycharm": {
     "name": "#%%\n"
    }
   },
   "outputs": [],
   "source": [
    "import numpy as np\n",
    "np.quantile(sorted(freq.values()), q=[0.25, 0.50, 0.75, 1])"
   ]
  }
 ],
 "metadata": {
  "kernelspec": {
   "display_name": "Python 3 (ipykernel)",
   "language": "python",
   "name": "python3"
  },
  "language_info": {
   "codemirror_mode": {
    "name": "ipython",
    "version": 3
   },
   "file_extension": ".py",
   "mimetype": "text/x-python",
   "name": "python",
   "nbconvert_exporter": "python",
   "pygments_lexer": "ipython3",
   "version": "3.9.11"
  }
 },
 "nbformat": 4,
 "nbformat_minor": 1
}